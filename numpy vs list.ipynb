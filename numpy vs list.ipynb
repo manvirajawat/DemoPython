{
 "cells": [
  {
   "cell_type": "markdown",
   "metadata": {},
   "source": [
    "# memory size"
   ]
  },
  {
   "cell_type": "code",
   "execution_count": 2,
   "metadata": {},
   "outputs": [
    {
     "name": "stdout",
     "output_type": "stream",
     "text": [
      "range(0, 1000)\n",
      "size of a list :  24000\n",
      "size of an array :  4000\n"
     ]
    }
   ],
   "source": [
    "import numpy as np\n",
    "import sys\n",
    "\n",
    "# define a list\n",
    "\n",
    "l=range(1000)\n",
    "print(l)\n",
    "print(\"size of a list : \",sys.getsizeof(l)*len(l))\n",
    "\n",
    "# define a numpy array\n",
    "\n",
    "a=np.arange(1000)\n",
    "print(\"size of an array : \",a.size*a.itemsize)"
   ]
  },
  {
   "cell_type": "markdown",
   "metadata": {},
   "source": [
    "# speed"
   ]
  },
  {
   "cell_type": "code",
   "execution_count": 9,
   "metadata": {},
   "outputs": [
    {
     "name": "stdout",
     "output_type": "stream",
     "text": [
      "0.009999752044677734 0.0004999637603759766\n",
      "In this example numpy is 20.000953743443013 times faster than a list\n"
     ]
    }
   ],
   "source": [
    "import time\n",
    "\n",
    "#list\n",
    "\n",
    "def using_List():\n",
    "    t1=time.time()\n",
    "    x=range(10000)\n",
    "    y=range(10000)\n",
    "    z=[x[i]*y[i] for i in range(len(x))]\n",
    "    return time.time()-t1\n",
    "\n",
    "#numpy\n",
    "\n",
    "def using_Numpy():\n",
    "    t1=time.time()\n",
    "    a=np.arange(10000)\n",
    "    b=np.arange(10000)\n",
    "    z=a+b\n",
    "    return time.time()-t1\n",
    "\n",
    "list_time=using_List()\n",
    "numpy_time=using_Numpy()\n",
    "print(list_time,numpy_time)\n",
    "print(\"In this example numpy is \"+str(list_time/numpy_time)+\" times faster than a list\")"
   ]
  },
  {
   "cell_type": "code",
   "execution_count": null,
   "metadata": {},
   "outputs": [],
   "source": []
  }
 ],
 "metadata": {
  "kernelspec": {
   "display_name": "Python 3",
   "language": "python",
   "name": "python3"
  },
  "language_info": {
   "codemirror_mode": {
    "name": "ipython",
    "version": 3
   },
   "file_extension": ".py",
   "mimetype": "text/x-python",
   "name": "python",
   "nbconvert_exporter": "python",
   "pygments_lexer": "ipython3",
   "version": "3.7.6"
  }
 },
 "nbformat": 4,
 "nbformat_minor": 4
}
