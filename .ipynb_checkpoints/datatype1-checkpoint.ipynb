{
 "cells": [
  {
   "cell_type": "code",
   "execution_count": 1,
   "metadata": {},
   "outputs": [
    {
     "name": "stdout",
     "output_type": "stream",
     "text": [
      "['a', 123, 3.14, 'John', 'Python', 20]\n"
     ]
    }
   ],
   "source": [
    "#lists\n",
    "\n",
    "mylist=['a',123,3.14,'John']\n",
    "mylist1=[\"Python\",20]\n",
    "mylist+=mylist1\n",
    "print(mylist)"
   ]
  },
  {
   "cell_type": "code",
   "execution_count": 2,
   "metadata": {},
   "outputs": [
    {
     "data": {
      "text/plain": [
       "['a', 123, 3.14, 'John', 'Python', 20, 'a', 123, 3.14, 'John', 'Python', 20]"
      ]
     },
     "execution_count": 2,
     "metadata": {},
     "output_type": "execute_result"
    }
   ],
   "source": [
    "mylist*2\n"
   ]
  },
  {
   "cell_type": "code",
   "execution_count": 3,
   "metadata": {},
   "outputs": [
    {
     "data": {
      "text/plain": [
       "[123, 3.14, 'John']"
      ]
     },
     "execution_count": 3,
     "metadata": {},
     "output_type": "execute_result"
    }
   ],
   "source": [
    "mylist[1:4]"
   ]
  },
  {
   "cell_type": "code",
   "execution_count": 7,
   "metadata": {},
   "outputs": [],
   "source": [
    "mylist.append(\"10\")"
   ]
  },
  {
   "cell_type": "code",
   "execution_count": 8,
   "metadata": {},
   "outputs": [
    {
     "name": "stdout",
     "output_type": "stream",
     "text": [
      "['a', 123, 3.14, 'John', 'Python', 20, 10, '10']\n"
     ]
    }
   ],
   "source": [
    "print(mylist)"
   ]
  },
  {
   "cell_type": "code",
   "execution_count": 9,
   "metadata": {},
   "outputs": [
    {
     "name": "stdout",
     "output_type": "stream",
     "text": [
      "['a', 123, 3.14, 'John', 'Python', 20, 10, '10', ['c', 'd']]\n"
     ]
    }
   ],
   "source": [
    "mylist2=['c','d']\n",
    "mylist.append(mylist2)\n",
    "print(mylist)"
   ]
  },
  {
   "cell_type": "code",
   "execution_count": 10,
   "metadata": {},
   "outputs": [
    {
     "name": "stdout",
     "output_type": "stream",
     "text": [
      "['a', 123, 3.14, 'John', 'Python', 20, 10, '10', ['c', 'd'], 'e', 'f']\n"
     ]
    }
   ],
   "source": [
    "mylist.extend(['e','f'])\n",
    "print(mylist)"
   ]
  },
  {
   "cell_type": "code",
   "execution_count": 11,
   "metadata": {},
   "outputs": [
    {
     "name": "stdout",
     "output_type": "stream",
     "text": [
      "['a', 123, 100, 3.14, 'John', 'Python', 20, 10, '10', ['c', 'd'], 'e', 'f']\n"
     ]
    }
   ],
   "source": [
    "mylist.insert(2,100)\n",
    "print(mylist)"
   ]
  },
  {
   "cell_type": "code",
   "execution_count": 13,
   "metadata": {},
   "outputs": [],
   "source": [
    "mylist.clear()"
   ]
  },
  {
   "cell_type": "code",
   "execution_count": 16,
   "metadata": {},
   "outputs": [
    {
     "name": "stdout",
     "output_type": "stream",
     "text": [
      "[]\n"
     ]
    }
   ],
   "source": [
    "print(mylist)"
   ]
  },
  {
   "cell_type": "code",
   "execution_count": 21,
   "metadata": {},
   "outputs": [
    {
     "name": "stdout",
     "output_type": "stream",
     "text": [
      "{}\n",
      "{1: 'John', 2: 'Bob', 3: 'Alice'}\n"
     ]
    }
   ],
   "source": [
    "#  Dictionaries\n",
    "dicttt={}\n",
    "myDict={1:'John',2:'Bob',3:'Alice'}\n",
    "print(dict)\n",
    "print(myDict)"
   ]
  },
  {
   "cell_type": "code",
   "execution_count": 19,
   "metadata": {},
   "outputs": [
    {
     "name": "stdout",
     "output_type": "stream",
     "text": [
      "{'name': 'Jake', 1: [2, 3, 4]}\n"
     ]
    }
   ],
   "source": [
    "myDict1={'name':'Jake',1:[2,3,4]}\n",
    "print(myDict1)"
   ]
  },
  {
   "cell_type": "code",
   "execution_count": 29,
   "metadata": {},
   "outputs": [
    {
     "ename": "SyntaxError",
     "evalue": "invalid syntax (<ipython-input-29-02d5d8577719>, line 1)",
     "output_type": "error",
     "traceback": [
      "\u001b[1;36m  File \u001b[1;32m\"<ipython-input-29-02d5d8577719>\"\u001b[1;36m, line \u001b[1;32m1\u001b[0m\n\u001b[1;33m    myDict2=dict([(1:'apple'),(2:'ball')])\u001b[0m\n\u001b[1;37m                    ^\u001b[0m\n\u001b[1;31mSyntaxError\u001b[0m\u001b[1;31m:\u001b[0m invalid syntax\n"
     ]
    }
   ],
   "source": [
    "myDict2=dict((1,'apple'),(2,'ball'))\n",
    "print(myDict2)"
   ]
  },
  {
   "cell_type": "code",
   "execution_count": null,
   "metadata": {},
   "outputs": [],
   "source": []
  }
 ],
 "metadata": {
  "kernelspec": {
   "display_name": "Python 3",
   "language": "python",
   "name": "python3"
  },
  "language_info": {
   "codemirror_mode": {
    "name": "ipython",
    "version": 3
   },
   "file_extension": ".py",
   "mimetype": "text/x-python",
   "name": "python",
   "nbconvert_exporter": "python",
   "pygments_lexer": "ipython3",
   "version": "3.7.6"
  }
 },
 "nbformat": 4,
 "nbformat_minor": 4
}
