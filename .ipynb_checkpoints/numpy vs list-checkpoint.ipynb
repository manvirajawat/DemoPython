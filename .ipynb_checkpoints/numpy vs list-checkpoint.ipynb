{
 "cells": [
  {
   "cell_type": "markdown",
   "metadata": {},
   "source": [
    "# memory size"
   ]
  },
  {
   "cell_type": "code",
   "execution_count": 2,
   "metadata": {},
   "outputs": [
    {
     "name": "stdout",
     "output_type": "stream",
     "text": [
      "range(0, 1000)\n",
      "size of a list :  24000\n",
      "size of an array :  4000\n"
     ]
    }
   ],
   "source": [
    "import numpy as np\n",
    "import sys\n",
    "\n",
    "# define a list\n",
    "\n",
    "l=range(1000)\n",
    "print(l)\n",
    "print(\"size of a list : \",sys.getsizeof(l)*len(l))\n",
    "\n",
    "# define a numpy array\n",
    "\n",
    "a=np.arange(1000)\n",
    "print(\"size of an array : \",a.size*a.itemsize)"
   ]
  },
  {
   "cell_type": "markdown",
   "metadata": {},
   "source": [
    "# speed"
   ]
  },
  {
   "cell_type": "code",
   "execution_count": 7,
   "metadata": {},
   "outputs": [
    {
     "ename": "SyntaxError",
     "evalue": "invalid syntax (<ipython-input-7-ddc191724388>, line 10)",
     "output_type": "error",
     "traceback": [
      "\u001b[1;36m  File \u001b[1;32m\"<ipython-input-7-ddc191724388>\"\u001b[1;36m, line \u001b[1;32m10\u001b[0m\n\u001b[1;33m    return time.time()_t1\u001b[0m\n\u001b[1;37m                        ^\u001b[0m\n\u001b[1;31mSyntaxError\u001b[0m\u001b[1;31m:\u001b[0m invalid syntax\n"
     ]
    }
   ],
   "source": [
    "import time\n",
    "\n",
    "#list\n",
    "\n",
    "def using_List():\n",
    "    t1=time.time()\n",
    "    x=range(10000)\n",
    "    y=range(10000)\n",
    "    z=[x[i]*y[i] for i in range(len(x))]\n",
    "    return time.time()-t1\n",
    "\n",
    "#numpy\n",
    "\n",
    "def using_Numpy():\n",
    "    t1=time.time()\n",
    "    a=np.array(10000)\n",
    "    b=np.array(10000)\n",
    "    z=a+b\n",
    "    return time.time()-t1\n",
    "\n",
    "list_time=using_List()\n",
    "numpy_time=using_Numpy()\n",
    "print(list_time,numpy_time)\n",
    "print(\"In this example numpy is \"+str(list_time/numpy_time)+\" times faster than a list\")"
   ]
  },
  {
   "cell_type": "code",
   "execution_count": null,
   "metadata": {},
   "outputs": [],
   "source": []
  }
 ],
 "metadata": {
  "kernelspec": {
   "display_name": "Python 3",
   "language": "python",
   "name": "python3"
  },
  "language_info": {
   "codemirror_mode": {
    "name": "ipython",
    "version": 3
   },
   "file_extension": ".py",
   "mimetype": "text/x-python",
   "name": "python",
   "nbconvert_exporter": "python",
   "pygments_lexer": "ipython3",
   "version": "3.7.6"
  }
 },
 "nbformat": 4,
 "nbformat_minor": 4
}
