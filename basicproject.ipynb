{
 "cells": [
  {
   "cell_type": "code",
   "execution_count": 2,
   "metadata": {},
   "outputs": [],
   "source": [
    "import pandas as pd\n",
    "import numpy as np\n",
    "from matplotlib import pyplot as plt\n",
    "%matplotlib inline"
   ]
  },
  {
   "cell_type": "markdown",
   "metadata": {},
   "source": [
    "# Data manipulation part "
   ]
  },
  {
   "cell_type": "code",
   "execution_count": 3,
   "metadata": {},
   "outputs": [
    {
     "data": {
      "text/html": [
       "<div>\n",
       "<style scoped>\n",
       "    .dataframe tbody tr th:only-of-type {\n",
       "        vertical-align: middle;\n",
       "    }\n",
       "\n",
       "    .dataframe tbody tr th {\n",
       "        vertical-align: top;\n",
       "    }\n",
       "\n",
       "    .dataframe thead th {\n",
       "        text-align: right;\n",
       "    }\n",
       "</style>\n",
       "<table border=\"1\" class=\"dataframe\">\n",
       "  <thead>\n",
       "    <tr style=\"text-align: right;\">\n",
       "      <th></th>\n",
       "      <th>Series_reference</th>\n",
       "      <th>Period</th>\n",
       "      <th>Data_value</th>\n",
       "      <th>Suppressed</th>\n",
       "      <th>STATUS</th>\n",
       "      <th>UNITS</th>\n",
       "      <th>Magnitude</th>\n",
       "      <th>Subject</th>\n",
       "      <th>Group</th>\n",
       "      <th>Series_title_1</th>\n",
       "      <th>Series_title_2</th>\n",
       "      <th>Series_title_3</th>\n",
       "      <th>Series_title_4</th>\n",
       "      <th>Series_title_5</th>\n",
       "    </tr>\n",
       "  </thead>\n",
       "  <tbody>\n",
       "    <tr>\n",
       "      <th>0</th>\n",
       "      <td>RTTA.SF11CA</td>\n",
       "      <td>1997.03</td>\n",
       "      <td>27070.4</td>\n",
       "      <td>NaN</td>\n",
       "      <td>F</td>\n",
       "      <td>Dollars</td>\n",
       "      <td>6</td>\n",
       "      <td>Retail Trade (ANZSIC06) - RTT</td>\n",
       "      <td>Sales and stocks by industry, in current and c...</td>\n",
       "      <td>Core industries total</td>\n",
       "      <td>Sales (operating income)</td>\n",
       "      <td>Current</td>\n",
       "      <td>Actual</td>\n",
       "      <td>NaN</td>\n",
       "    </tr>\n",
       "    <tr>\n",
       "      <th>1</th>\n",
       "      <td>RTTA.SF11CA</td>\n",
       "      <td>1998.03</td>\n",
       "      <td>27748.4</td>\n",
       "      <td>NaN</td>\n",
       "      <td>F</td>\n",
       "      <td>Dollars</td>\n",
       "      <td>6</td>\n",
       "      <td>Retail Trade (ANZSIC06) - RTT</td>\n",
       "      <td>Sales and stocks by industry, in current and c...</td>\n",
       "      <td>Core industries total</td>\n",
       "      <td>Sales (operating income)</td>\n",
       "      <td>Current</td>\n",
       "      <td>Actual</td>\n",
       "      <td>NaN</td>\n",
       "    </tr>\n",
       "    <tr>\n",
       "      <th>2</th>\n",
       "      <td>RTTA.SF11CA</td>\n",
       "      <td>1999.03</td>\n",
       "      <td>28216.6</td>\n",
       "      <td>NaN</td>\n",
       "      <td>F</td>\n",
       "      <td>Dollars</td>\n",
       "      <td>6</td>\n",
       "      <td>Retail Trade (ANZSIC06) - RTT</td>\n",
       "      <td>Sales and stocks by industry, in current and c...</td>\n",
       "      <td>Core industries total</td>\n",
       "      <td>Sales (operating income)</td>\n",
       "      <td>Current</td>\n",
       "      <td>Actual</td>\n",
       "      <td>NaN</td>\n",
       "    </tr>\n",
       "    <tr>\n",
       "      <th>3</th>\n",
       "      <td>RTTA.SF11CA</td>\n",
       "      <td>2000.03</td>\n",
       "      <td>30204.1</td>\n",
       "      <td>NaN</td>\n",
       "      <td>F</td>\n",
       "      <td>Dollars</td>\n",
       "      <td>6</td>\n",
       "      <td>Retail Trade (ANZSIC06) - RTT</td>\n",
       "      <td>Sales and stocks by industry, in current and c...</td>\n",
       "      <td>Core industries total</td>\n",
       "      <td>Sales (operating income)</td>\n",
       "      <td>Current</td>\n",
       "      <td>Actual</td>\n",
       "      <td>NaN</td>\n",
       "    </tr>\n",
       "    <tr>\n",
       "      <th>4</th>\n",
       "      <td>RTTA.SF11CA</td>\n",
       "      <td>2001.03</td>\n",
       "      <td>31641.6</td>\n",
       "      <td>NaN</td>\n",
       "      <td>F</td>\n",
       "      <td>Dollars</td>\n",
       "      <td>6</td>\n",
       "      <td>Retail Trade (ANZSIC06) - RTT</td>\n",
       "      <td>Sales and stocks by industry, in current and c...</td>\n",
       "      <td>Core industries total</td>\n",
       "      <td>Sales (operating income)</td>\n",
       "      <td>Current</td>\n",
       "      <td>Actual</td>\n",
       "      <td>NaN</td>\n",
       "    </tr>\n",
       "  </tbody>\n",
       "</table>\n",
       "</div>"
      ],
      "text/plain": [
       "  Series_reference   Period  Data_value Suppressed STATUS    UNITS  Magnitude  \\\n",
       "0      RTTA.SF11CA  1997.03     27070.4        NaN      F  Dollars          6   \n",
       "1      RTTA.SF11CA  1998.03     27748.4        NaN      F  Dollars          6   \n",
       "2      RTTA.SF11CA  1999.03     28216.6        NaN      F  Dollars          6   \n",
       "3      RTTA.SF11CA  2000.03     30204.1        NaN      F  Dollars          6   \n",
       "4      RTTA.SF11CA  2001.03     31641.6        NaN      F  Dollars          6   \n",
       "\n",
       "                         Subject  \\\n",
       "0  Retail Trade (ANZSIC06) - RTT   \n",
       "1  Retail Trade (ANZSIC06) - RTT   \n",
       "2  Retail Trade (ANZSIC06) - RTT   \n",
       "3  Retail Trade (ANZSIC06) - RTT   \n",
       "4  Retail Trade (ANZSIC06) - RTT   \n",
       "\n",
       "                                               Group         Series_title_1  \\\n",
       "0  Sales and stocks by industry, in current and c...  Core industries total   \n",
       "1  Sales and stocks by industry, in current and c...  Core industries total   \n",
       "2  Sales and stocks by industry, in current and c...  Core industries total   \n",
       "3  Sales and stocks by industry, in current and c...  Core industries total   \n",
       "4  Sales and stocks by industry, in current and c...  Core industries total   \n",
       "\n",
       "             Series_title_2 Series_title_3 Series_title_4  Series_title_5  \n",
       "0  Sales (operating income)        Current         Actual             NaN  \n",
       "1  Sales (operating income)        Current         Actual             NaN  \n",
       "2  Sales (operating income)        Current         Actual             NaN  \n",
       "3  Sales (operating income)        Current         Actual             NaN  \n",
       "4  Sales (operating income)        Current         Actual             NaN  "
      ]
     },
     "execution_count": 3,
     "metadata": {},
     "output_type": "execute_result"
    }
   ],
   "source": [
    "customer = pd.read_csv('rts_mar20qtr-tables-csv.csv')\n",
    "customer.head()"
   ]
  },
  {
   "cell_type": "code",
   "execution_count": 4,
   "metadata": {},
   "outputs": [
    {
     "data": {
      "text/plain": [
       "0    F\n",
       "1    F\n",
       "2    F\n",
       "3    F\n",
       "4    F\n",
       "Name: STATUS, dtype: object"
      ]
     },
     "execution_count": 4,
     "metadata": {},
     "output_type": "execute_result"
    }
   ],
   "source": [
    "c_5 = customer.iloc[:,4]\n",
    "c_5.head()"
   ]
  },
  {
   "cell_type": "code",
   "execution_count": 5,
   "metadata": {},
   "outputs": [
    {
     "data": {
      "text/plain": [
       "0   NaN\n",
       "1   NaN\n",
       "2   NaN\n",
       "3   NaN\n",
       "4   NaN\n",
       "Name: Series_title_5, dtype: float64"
      ]
     },
     "execution_count": 5,
     "metadata": {},
     "output_type": "execute_result"
    }
   ],
   "source": [
    "c_14 = customer.iloc[:,13]\n",
    "c_14.head()"
   ]
  },
  {
   "cell_type": "code",
   "execution_count": 6,
   "metadata": {},
   "outputs": [
    {
     "data": {
      "text/html": [
       "<div>\n",
       "<style scoped>\n",
       "    .dataframe tbody tr th:only-of-type {\n",
       "        vertical-align: middle;\n",
       "    }\n",
       "\n",
       "    .dataframe tbody tr th {\n",
       "        vertical-align: top;\n",
       "    }\n",
       "\n",
       "    .dataframe thead th {\n",
       "        text-align: right;\n",
       "    }\n",
       "</style>\n",
       "<table border=\"1\" class=\"dataframe\">\n",
       "  <thead>\n",
       "    <tr style=\"text-align: right;\">\n",
       "      <th></th>\n",
       "      <th>Series_reference</th>\n",
       "      <th>Period</th>\n",
       "      <th>Data_value</th>\n",
       "      <th>Suppressed</th>\n",
       "      <th>STATUS</th>\n",
       "      <th>UNITS</th>\n",
       "      <th>Magnitude</th>\n",
       "      <th>Subject</th>\n",
       "      <th>Group</th>\n",
       "      <th>Series_title_1</th>\n",
       "      <th>Series_title_2</th>\n",
       "      <th>Series_title_3</th>\n",
       "      <th>Series_title_4</th>\n",
       "      <th>Series_title_5</th>\n",
       "    </tr>\n",
       "  </thead>\n",
       "  <tbody>\n",
       "    <tr>\n",
       "      <th>3</th>\n",
       "      <td>RTTA.SF11CA</td>\n",
       "      <td>2000.03</td>\n",
       "      <td>30204.1</td>\n",
       "      <td>NaN</td>\n",
       "      <td>F</td>\n",
       "      <td>Dollars</td>\n",
       "      <td>6</td>\n",
       "      <td>Retail Trade (ANZSIC06) - RTT</td>\n",
       "      <td>Sales and stocks by industry, in current and c...</td>\n",
       "      <td>Core industries total</td>\n",
       "      <td>Sales (operating income)</td>\n",
       "      <td>Current</td>\n",
       "      <td>Actual</td>\n",
       "      <td>NaN</td>\n",
       "    </tr>\n",
       "    <tr>\n",
       "      <th>4</th>\n",
       "      <td>RTTA.SF11CA</td>\n",
       "      <td>2001.03</td>\n",
       "      <td>31641.6</td>\n",
       "      <td>NaN</td>\n",
       "      <td>F</td>\n",
       "      <td>Dollars</td>\n",
       "      <td>6</td>\n",
       "      <td>Retail Trade (ANZSIC06) - RTT</td>\n",
       "      <td>Sales and stocks by industry, in current and c...</td>\n",
       "      <td>Core industries total</td>\n",
       "      <td>Sales (operating income)</td>\n",
       "      <td>Current</td>\n",
       "      <td>Actual</td>\n",
       "      <td>NaN</td>\n",
       "    </tr>\n",
       "    <tr>\n",
       "      <th>5</th>\n",
       "      <td>RTTA.SF11CA</td>\n",
       "      <td>2002.03</td>\n",
       "      <td>33853.0</td>\n",
       "      <td>NaN</td>\n",
       "      <td>F</td>\n",
       "      <td>Dollars</td>\n",
       "      <td>6</td>\n",
       "      <td>Retail Trade (ANZSIC06) - RTT</td>\n",
       "      <td>Sales and stocks by industry, in current and c...</td>\n",
       "      <td>Core industries total</td>\n",
       "      <td>Sales (operating income)</td>\n",
       "      <td>Current</td>\n",
       "      <td>Actual</td>\n",
       "      <td>NaN</td>\n",
       "    </tr>\n",
       "    <tr>\n",
       "      <th>6</th>\n",
       "      <td>RTTA.SF11CA</td>\n",
       "      <td>2003.03</td>\n",
       "      <td>36284.6</td>\n",
       "      <td>NaN</td>\n",
       "      <td>F</td>\n",
       "      <td>Dollars</td>\n",
       "      <td>6</td>\n",
       "      <td>Retail Trade (ANZSIC06) - RTT</td>\n",
       "      <td>Sales and stocks by industry, in current and c...</td>\n",
       "      <td>Core industries total</td>\n",
       "      <td>Sales (operating income)</td>\n",
       "      <td>Current</td>\n",
       "      <td>Actual</td>\n",
       "      <td>NaN</td>\n",
       "    </tr>\n",
       "    <tr>\n",
       "      <th>7</th>\n",
       "      <td>RTTA.SF11CA</td>\n",
       "      <td>2004.03</td>\n",
       "      <td>38184.9</td>\n",
       "      <td>NaN</td>\n",
       "      <td>F</td>\n",
       "      <td>Dollars</td>\n",
       "      <td>6</td>\n",
       "      <td>Retail Trade (ANZSIC06) - RTT</td>\n",
       "      <td>Sales and stocks by industry, in current and c...</td>\n",
       "      <td>Core industries total</td>\n",
       "      <td>Sales (operating income)</td>\n",
       "      <td>Current</td>\n",
       "      <td>Actual</td>\n",
       "      <td>NaN</td>\n",
       "    </tr>\n",
       "  </tbody>\n",
       "</table>\n",
       "</div>"
      ],
      "text/plain": [
       "  Series_reference   Period  Data_value Suppressed STATUS    UNITS  Magnitude  \\\n",
       "3      RTTA.SF11CA  2000.03     30204.1        NaN      F  Dollars          6   \n",
       "4      RTTA.SF11CA  2001.03     31641.6        NaN      F  Dollars          6   \n",
       "5      RTTA.SF11CA  2002.03     33853.0        NaN      F  Dollars          6   \n",
       "6      RTTA.SF11CA  2003.03     36284.6        NaN      F  Dollars          6   \n",
       "7      RTTA.SF11CA  2004.03     38184.9        NaN      F  Dollars          6   \n",
       "\n",
       "                         Subject  \\\n",
       "3  Retail Trade (ANZSIC06) - RTT   \n",
       "4  Retail Trade (ANZSIC06) - RTT   \n",
       "5  Retail Trade (ANZSIC06) - RTT   \n",
       "6  Retail Trade (ANZSIC06) - RTT   \n",
       "7  Retail Trade (ANZSIC06) - RTT   \n",
       "\n",
       "                                               Group         Series_title_1  \\\n",
       "3  Sales and stocks by industry, in current and c...  Core industries total   \n",
       "4  Sales and stocks by industry, in current and c...  Core industries total   \n",
       "5  Sales and stocks by industry, in current and c...  Core industries total   \n",
       "6  Sales and stocks by industry, in current and c...  Core industries total   \n",
       "7  Sales and stocks by industry, in current and c...  Core industries total   \n",
       "\n",
       "             Series_title_2 Series_title_3 Series_title_4  Series_title_5  \n",
       "3  Sales (operating income)        Current         Actual             NaN  \n",
       "4  Sales (operating income)        Current         Actual             NaN  \n",
       "5  Sales (operating income)        Current         Actual             NaN  \n",
       "6  Sales (operating income)        Current         Actual             NaN  \n",
       "7  Sales (operating income)        Current         Actual             NaN  "
      ]
     },
     "execution_count": 6,
     "metadata": {},
     "output_type": "execute_result"
    }
   ],
   "source": [
    "c_random = customer[(customer['STATUS'] == \"F\") & (customer['UNITS'] == \"Dollars\") & (customer['Period'] >= 2000)]\n",
    "c_random.head()"
   ]
  },
  {
   "cell_type": "code",
   "execution_count": 7,
   "metadata": {},
   "outputs": [
    {
     "data": {
      "text/html": [
       "<div>\n",
       "<style scoped>\n",
       "    .dataframe tbody tr th:only-of-type {\n",
       "        vertical-align: middle;\n",
       "    }\n",
       "\n",
       "    .dataframe tbody tr th {\n",
       "        vertical-align: top;\n",
       "    }\n",
       "\n",
       "    .dataframe thead th {\n",
       "        text-align: right;\n",
       "    }\n",
       "</style>\n",
       "<table border=\"1\" class=\"dataframe\">\n",
       "  <thead>\n",
       "    <tr style=\"text-align: right;\">\n",
       "      <th></th>\n",
       "      <th>Series_reference</th>\n",
       "      <th>Period</th>\n",
       "      <th>Data_value</th>\n",
       "      <th>Suppressed</th>\n",
       "      <th>STATUS</th>\n",
       "      <th>UNITS</th>\n",
       "      <th>Magnitude</th>\n",
       "      <th>Subject</th>\n",
       "      <th>Group</th>\n",
       "      <th>Series_title_1</th>\n",
       "      <th>Series_title_2</th>\n",
       "      <th>Series_title_3</th>\n",
       "      <th>Series_title_4</th>\n",
       "      <th>Series_title_5</th>\n",
       "    </tr>\n",
       "  </thead>\n",
       "  <tbody>\n",
       "    <tr>\n",
       "      <th>0</th>\n",
       "      <td>RTTA.SF11CA</td>\n",
       "      <td>1997.03</td>\n",
       "      <td>27070.4</td>\n",
       "      <td>NaN</td>\n",
       "      <td>F</td>\n",
       "      <td>Dollars</td>\n",
       "      <td>6</td>\n",
       "      <td>Retail Trade (ANZSIC06) - RTT</td>\n",
       "      <td>Sales and stocks by industry, in current and c...</td>\n",
       "      <td>Core industries total</td>\n",
       "      <td>Sales (operating income)</td>\n",
       "      <td>Current</td>\n",
       "      <td>Actual</td>\n",
       "      <td>NaN</td>\n",
       "    </tr>\n",
       "    <tr>\n",
       "      <th>1</th>\n",
       "      <td>RTTA.SF11CA</td>\n",
       "      <td>1998.03</td>\n",
       "      <td>27748.4</td>\n",
       "      <td>NaN</td>\n",
       "      <td>F</td>\n",
       "      <td>Dollars</td>\n",
       "      <td>6</td>\n",
       "      <td>Retail Trade (ANZSIC06) - RTT</td>\n",
       "      <td>Sales and stocks by industry, in current and c...</td>\n",
       "      <td>Core industries total</td>\n",
       "      <td>Sales (operating income)</td>\n",
       "      <td>Current</td>\n",
       "      <td>Actual</td>\n",
       "      <td>NaN</td>\n",
       "    </tr>\n",
       "    <tr>\n",
       "      <th>2</th>\n",
       "      <td>RTTA.SF11CA</td>\n",
       "      <td>1999.03</td>\n",
       "      <td>28216.6</td>\n",
       "      <td>NaN</td>\n",
       "      <td>F</td>\n",
       "      <td>Dollars</td>\n",
       "      <td>6</td>\n",
       "      <td>Retail Trade (ANZSIC06) - RTT</td>\n",
       "      <td>Sales and stocks by industry, in current and c...</td>\n",
       "      <td>Core industries total</td>\n",
       "      <td>Sales (operating income)</td>\n",
       "      <td>Current</td>\n",
       "      <td>Actual</td>\n",
       "      <td>NaN</td>\n",
       "    </tr>\n",
       "    <tr>\n",
       "      <th>3</th>\n",
       "      <td>RTTA.SF11CA</td>\n",
       "      <td>2000.03</td>\n",
       "      <td>30204.1</td>\n",
       "      <td>NaN</td>\n",
       "      <td>F</td>\n",
       "      <td>Dollars</td>\n",
       "      <td>6</td>\n",
       "      <td>Retail Trade (ANZSIC06) - RTT</td>\n",
       "      <td>Sales and stocks by industry, in current and c...</td>\n",
       "      <td>Core industries total</td>\n",
       "      <td>Sales (operating income)</td>\n",
       "      <td>Current</td>\n",
       "      <td>Actual</td>\n",
       "      <td>NaN</td>\n",
       "    </tr>\n",
       "    <tr>\n",
       "      <th>4</th>\n",
       "      <td>RTTA.SF11CA</td>\n",
       "      <td>2001.03</td>\n",
       "      <td>31641.6</td>\n",
       "      <td>NaN</td>\n",
       "      <td>F</td>\n",
       "      <td>Dollars</td>\n",
       "      <td>6</td>\n",
       "      <td>Retail Trade (ANZSIC06) - RTT</td>\n",
       "      <td>Sales and stocks by industry, in current and c...</td>\n",
       "      <td>Core industries total</td>\n",
       "      <td>Sales (operating income)</td>\n",
       "      <td>Current</td>\n",
       "      <td>Actual</td>\n",
       "      <td>NaN</td>\n",
       "    </tr>\n",
       "  </tbody>\n",
       "</table>\n",
       "</div>"
      ],
      "text/plain": [
       "  Series_reference   Period  Data_value Suppressed STATUS    UNITS  Magnitude  \\\n",
       "0      RTTA.SF11CA  1997.03     27070.4        NaN      F  Dollars          6   \n",
       "1      RTTA.SF11CA  1998.03     27748.4        NaN      F  Dollars          6   \n",
       "2      RTTA.SF11CA  1999.03     28216.6        NaN      F  Dollars          6   \n",
       "3      RTTA.SF11CA  2000.03     30204.1        NaN      F  Dollars          6   \n",
       "4      RTTA.SF11CA  2001.03     31641.6        NaN      F  Dollars          6   \n",
       "\n",
       "                         Subject  \\\n",
       "0  Retail Trade (ANZSIC06) - RTT   \n",
       "1  Retail Trade (ANZSIC06) - RTT   \n",
       "2  Retail Trade (ANZSIC06) - RTT   \n",
       "3  Retail Trade (ANZSIC06) - RTT   \n",
       "4  Retail Trade (ANZSIC06) - RTT   \n",
       "\n",
       "                                               Group         Series_title_1  \\\n",
       "0  Sales and stocks by industry, in current and c...  Core industries total   \n",
       "1  Sales and stocks by industry, in current and c...  Core industries total   \n",
       "2  Sales and stocks by industry, in current and c...  Core industries total   \n",
       "3  Sales and stocks by industry, in current and c...  Core industries total   \n",
       "4  Sales and stocks by industry, in current and c...  Core industries total   \n",
       "\n",
       "             Series_title_2 Series_title_3 Series_title_4  Series_title_5  \n",
       "0  Sales (operating income)        Current         Actual             NaN  \n",
       "1  Sales (operating income)        Current         Actual             NaN  \n",
       "2  Sales (operating income)        Current         Actual             NaN  \n",
       "3  Sales (operating income)        Current         Actual             NaN  \n",
       "4  Sales (operating income)        Current         Actual             NaN  "
      ]
     },
     "execution_count": 7,
     "metadata": {},
     "output_type": "execute_result"
    }
   ],
   "source": [
    "c_random = customer[(customer['Data_value'] > 35000) | (customer['Magnitude'] == 6)]\n",
    "c_random.head()"
   ]
  },
  {
   "cell_type": "code",
   "execution_count": 8,
   "metadata": {},
   "outputs": [
    {
     "data": {
      "text/html": [
       "<div>\n",
       "<style scoped>\n",
       "    .dataframe tbody tr th:only-of-type {\n",
       "        vertical-align: middle;\n",
       "    }\n",
       "\n",
       "    .dataframe tbody tr th {\n",
       "        vertical-align: top;\n",
       "    }\n",
       "\n",
       "    .dataframe thead th {\n",
       "        text-align: right;\n",
       "    }\n",
       "</style>\n",
       "<table border=\"1\" class=\"dataframe\">\n",
       "  <thead>\n",
       "    <tr style=\"text-align: right;\">\n",
       "      <th></th>\n",
       "      <th>Series_reference</th>\n",
       "      <th>Period</th>\n",
       "      <th>Data_value</th>\n",
       "      <th>Suppressed</th>\n",
       "      <th>STATUS</th>\n",
       "      <th>UNITS</th>\n",
       "      <th>Magnitude</th>\n",
       "      <th>Subject</th>\n",
       "      <th>Group</th>\n",
       "      <th>Series_title_1</th>\n",
       "      <th>Series_title_2</th>\n",
       "      <th>Series_title_3</th>\n",
       "      <th>Series_title_4</th>\n",
       "      <th>Series_title_5</th>\n",
       "    </tr>\n",
       "  </thead>\n",
       "  <tbody>\n",
       "    <tr>\n",
       "      <th>13394</th>\n",
       "      <td>RTTQ.SFJ9CS</td>\n",
       "      <td>2015.06</td>\n",
       "      <td>511.6</td>\n",
       "      <td>NaN</td>\n",
       "      <td>R</td>\n",
       "      <td>Dollars</td>\n",
       "      <td>6</td>\n",
       "      <td>Retail Trade (ANZSIC06) - RTT</td>\n",
       "      <td>Sales and stocks by industry, in current and c...</td>\n",
       "      <td>Recreational goods retailing</td>\n",
       "      <td>Total stocks</td>\n",
       "      <td>Current</td>\n",
       "      <td>Seasonally adjusted</td>\n",
       "      <td>NaN</td>\n",
       "    </tr>\n",
       "    <tr>\n",
       "      <th>14590</th>\n",
       "      <td>RTTQ.SFL1CS</td>\n",
       "      <td>2017.06</td>\n",
       "      <td>843.2</td>\n",
       "      <td>NaN</td>\n",
       "      <td>R</td>\n",
       "      <td>Dollars</td>\n",
       "      <td>6</td>\n",
       "      <td>Retail Trade (ANZSIC06) - RTT</td>\n",
       "      <td>Sales and stocks by industry, in current and c...</td>\n",
       "      <td>Electrical and electronic goods retailing</td>\n",
       "      <td>Sales (operating income)</td>\n",
       "      <td>Current</td>\n",
       "      <td>Seasonally adjusted</td>\n",
       "      <td>NaN</td>\n",
       "    </tr>\n",
       "    <tr>\n",
       "      <th>3920</th>\n",
       "      <td>RTTQ.SF99CT</td>\n",
       "      <td>2009.03</td>\n",
       "      <td>5336.3</td>\n",
       "      <td>NaN</td>\n",
       "      <td>R</td>\n",
       "      <td>Dollars</td>\n",
       "      <td>6</td>\n",
       "      <td>Retail Trade (ANZSIC06) - RTT</td>\n",
       "      <td>Sales and stocks by industry, in current and c...</td>\n",
       "      <td>All industries total</td>\n",
       "      <td>Total stocks</td>\n",
       "      <td>Current</td>\n",
       "      <td>Trend</td>\n",
       "      <td>NaN</td>\n",
       "    </tr>\n",
       "    <tr>\n",
       "      <th>12035</th>\n",
       "      <td>RTTQ.SFH1KA</td>\n",
       "      <td>1997.06</td>\n",
       "      <td>1116.9</td>\n",
       "      <td>NaN</td>\n",
       "      <td>F</td>\n",
       "      <td>Dollars</td>\n",
       "      <td>6</td>\n",
       "      <td>Retail Trade (ANZSIC06) - RTT</td>\n",
       "      <td>Sales and stocks by industry, in current and c...</td>\n",
       "      <td>Hardware, building and garden supplies</td>\n",
       "      <td>Sales (operating income)</td>\n",
       "      <td>Deflated, at September 2010 quarter prices</td>\n",
       "      <td>Actual</td>\n",
       "      <td>NaN</td>\n",
       "    </tr>\n",
       "    <tr>\n",
       "      <th>163</th>\n",
       "      <td>RTTA.SF1RMCA</td>\n",
       "      <td>2019.03</td>\n",
       "      <td>502.9</td>\n",
       "      <td>NaN</td>\n",
       "      <td>F</td>\n",
       "      <td>Dollars</td>\n",
       "      <td>6</td>\n",
       "      <td>Retail Trade (ANZSIC06) - RTT</td>\n",
       "      <td>Sales by region in current prices (SAFC)</td>\n",
       "      <td>Core industries total</td>\n",
       "      <td>West Coast</td>\n",
       "      <td>Current</td>\n",
       "      <td>Actual</td>\n",
       "      <td>NaN</td>\n",
       "    </tr>\n",
       "  </tbody>\n",
       "</table>\n",
       "</div>"
      ],
      "text/plain": [
       "      Series_reference   Period  Data_value Suppressed STATUS    UNITS  \\\n",
       "13394      RTTQ.SFJ9CS  2015.06       511.6        NaN      R  Dollars   \n",
       "14590      RTTQ.SFL1CS  2017.06       843.2        NaN      R  Dollars   \n",
       "3920       RTTQ.SF99CT  2009.03      5336.3        NaN      R  Dollars   \n",
       "12035      RTTQ.SFH1KA  1997.06      1116.9        NaN      F  Dollars   \n",
       "163       RTTA.SF1RMCA  2019.03       502.9        NaN      F  Dollars   \n",
       "\n",
       "       Magnitude                        Subject  \\\n",
       "13394          6  Retail Trade (ANZSIC06) - RTT   \n",
       "14590          6  Retail Trade (ANZSIC06) - RTT   \n",
       "3920           6  Retail Trade (ANZSIC06) - RTT   \n",
       "12035          6  Retail Trade (ANZSIC06) - RTT   \n",
       "163            6  Retail Trade (ANZSIC06) - RTT   \n",
       "\n",
       "                                                   Group  \\\n",
       "13394  Sales and stocks by industry, in current and c...   \n",
       "14590  Sales and stocks by industry, in current and c...   \n",
       "3920   Sales and stocks by industry, in current and c...   \n",
       "12035  Sales and stocks by industry, in current and c...   \n",
       "163             Sales by region in current prices (SAFC)   \n",
       "\n",
       "                                  Series_title_1            Series_title_2  \\\n",
       "13394               Recreational goods retailing              Total stocks   \n",
       "14590  Electrical and electronic goods retailing  Sales (operating income)   \n",
       "3920                        All industries total              Total stocks   \n",
       "12035     Hardware, building and garden supplies  Sales (operating income)   \n",
       "163                        Core industries total                West Coast   \n",
       "\n",
       "                                   Series_title_3       Series_title_4  \\\n",
       "13394                                     Current  Seasonally adjusted   \n",
       "14590                                     Current  Seasonally adjusted   \n",
       "3920                                      Current                Trend   \n",
       "12035  Deflated, at September 2010 quarter prices               Actual   \n",
       "163                                       Current               Actual   \n",
       "\n",
       "       Series_title_5  \n",
       "13394             NaN  \n",
       "14590             NaN  \n",
       "3920              NaN  \n",
       "12035             NaN  \n",
       "163               NaN  "
      ]
     },
     "execution_count": 8,
     "metadata": {},
     "output_type": "execute_result"
    }
   ],
   "source": [
    "c_333 = customer.sample(n=333)\n",
    "c_333.head()"
   ]
  },
  {
   "cell_type": "markdown",
   "metadata": {},
   "source": [
    "# Data visualization part"
   ]
  },
  {
   "cell_type": "code",
   "execution_count": 12,
   "metadata": {},
   "outputs": [
    {
     "data": {
      "text/plain": [
       "['Dollars', 'Index', 'Percent']"
      ]
     },
     "execution_count": 12,
     "metadata": {},
     "output_type": "execute_result"
    }
   ],
   "source": [
    "customer['UNITS'].value_counts().keys().tolist()"
   ]
  },
  {
   "cell_type": "code",
   "execution_count": 13,
   "metadata": {},
   "outputs": [
    {
     "data": {
      "text/plain": [
       "[19572, 1485, 772]"
      ]
     },
     "execution_count": 13,
     "metadata": {},
     "output_type": "execute_result"
    }
   ],
   "source": [
    "customer['UNITS'].value_counts().tolist()"
   ]
  },
  {
   "cell_type": "code",
   "execution_count": 14,
   "metadata": {},
   "outputs": [
    {
     "data": {
      "text/plain": [
       "<BarContainer object of 3 artists>"
      ]
     },
     "execution_count": 14,
     "metadata": {},
     "output_type": "execute_result"
    },
    {
     "data": {
      "image/png": "[encoded data removed]",
      "text/plain": [
       "<Figure size 432x288 with 1 Axes>"
      ]
     },
     "metadata": {
      "needs_background": "light"
     },
     "output_type": "display_data"
    }
   ],
   "source": [
    "plt.bar(customer['UNITS'].value_counts().keys().tolist(), customer['UNITS'].value_counts().tolist())"
   ]
  },
  {
   "cell_type": "code",
   "execution_count": 15,
   "metadata": {},
   "outputs": [
    {
     "data": {
      "text/plain": [
       "<BarContainer object of 3 artists>"
      ]
     },
     "execution_count": 15,
     "metadata": {},
     "output_type": "execute_result"
    },
    {
     "data": {
      "image/png": "[encoded data removed]",
      "text/plain": [
       "<Figure size 432x288 with 1 Axes>"
      ]
     },
     "metadata": {
      "needs_background": "light"
     },
     "output_type": "display_data"
    }
   ],
   "source": [
    "plt.bar(customer['UNITS'].value_counts().keys().tolist(), customer['UNITS'].value_counts().tolist(), color='orange')"
   ]
  },
  {
   "cell_type": "code",
   "execution_count": 18,
   "metadata": {},
   "outputs": [
    {
     "data": {
      "text/plain": [
       "Text(0.5, 1.0, 'Distribuation of UNITS')"
      ]
     },
     "execution_count": 18,
     "metadata": {},
     "output_type": "execute_result"
    },
    {
     "data": {
      "image/png": "[encoded data removed]",
      "text/plain": [
       "<Figure size 432x288 with 1 Axes>"
      ]
     },
     "metadata": {
      "needs_background": "light"
     },
     "output_type": "display_data"
    }
   ],
   "source": [
    "plt.bar(customer['UNITS'].value_counts().keys().tolist(), customer['UNITS'].value_counts().tolist(), color='red')\n",
    "plt.xlabel(\"Categories of UNITS\")\n",
    "plt.ylabel(\"Count\")\n",
    "plt.title(\"Distribuation of UNITS\")"
   ]
  },
  {
   "cell_type": "code",
   "execution_count": 28,
   "metadata": {},
   "outputs": [
    {
     "data": {
      "text/plain": [
       "Text(0.5, 1.0, 'Distribution of Period')"
      ]
     },
     "execution_count": 28,
     "metadata": {},
     "output_type": "execute_result"
    },
    {
     "data": {
      "image/png": "[encoded data removed]",
      "text/plain": [
       "<Figure size 432x288 with 1 Axes>"
      ]
     },
     "metadata": {
      "needs_background": "light"
     },
     "output_type": "display_data"
    }
   ],
   "source": [
    "plt.hist(customer['Period'], bins=30, color='green')\n",
    "plt.title(\"Distribution of Period\")"
   ]
  },
  {
   "cell_type": "code",
   "execution_count": 29,
   "metadata": {},
   "outputs": [
    {
     "data": {
      "text/plain": [
       "(array([ 352.,  720.,  762.,  762.,  762.,  398.,  364.,  762.,  762.,\n",
       "         762.,  762.,  398.,  364.,  762.,  762.,  762.,  762.,  216.,\n",
       "         546.,  987., 1099., 1099., 1099.,  328.,  771., 1099., 1099.,\n",
       "        1091., 1091.,  326.]),\n",
       " array([1995.09      , 1995.92133333, 1996.75266667, 1997.584     ,\n",
       "        1998.41533333, 1999.24666667, 2000.078     , 2000.90933333,\n",
       "        2001.74066667, 2002.572     , 2003.40333333, 2004.23466667,\n",
       "        2005.066     , 2005.89733333, 2006.72866667, 2007.56      ,\n",
       "        2008.39133333, 2009.22266667, 2010.054     , 2010.88533333,\n",
       "        2011.71666667, 2012.548     , 2013.37933333, 2014.21066667,\n",
       "        2015.042     , 2015.87333333, 2016.70466667, 2017.536     ,\n",
       "        2018.36733333, 2019.19866667, 2020.03      ]),\n",
       " <a list of 30 Patch objects>)"
      ]
     },
     "execution_count": 29,
     "metadata": {},
     "output_type": "execute_result"
    },
    {
     "data": {
      "image/png": "[encoded data removed]",
      "text/plain": [
       "<Figure size 432x288 with 1 Axes>"
      ]
     },
     "metadata": {
      "needs_background": "light"
     },
     "output_type": "display_data"
    }
   ],
   "source": [
    "plt.hist(customer['Period'], bins=30, color='green')\n"
   ]
  },
  {
   "cell_type": "code",
   "execution_count": 30,
   "metadata": {},
   "outputs": [
    {
     "data": {
      "text/plain": [
       "Text(0.5, 1.0, 'Period VS Data_value')"
      ]
     },
     "execution_count": 30,
     "metadata": {},
     "output_type": "execute_result"
    },
    {
     "data": {
      "image/png": "[encoded data removed]",
      "text/plain": [
       "<Figure size 432x288 with 1 Axes>"
      ]
     },
     "metadata": {
      "needs_background": "light"
     },
     "output_type": "display_data"
    }
   ],
   "source": [
    "plt.scatter(x = customer['Period'], y = customer['Data_value'])\n",
    "plt.xlabel(\"Period\")\n",
    "plt.ylabel(\"Data_value\")\n",
    "plt.title(\"Period VS Data_value\")"
   ]
  },
  {
   "cell_type": "code",
   "execution_count": null,
   "metadata": {},
   "outputs": [],
   "source": [
    "customer.boxplot(column=['Period'],by=['Data_value'])"
   ]
  },
  {
   "cell_type": "code",
   "execution_count": null,
   "metadata": {},
   "outputs": [],
   "source": []
  }
 ],
 "metadata": {
  "kernelspec": {
   "display_name": "Python 3",
   "language": "python",
   "name": "python3"
  },
  "language_info": {
   "codemirror_mode": {
    "name": "ipython",
    "version": 3
   },
   "file_extension": ".py",
   "mimetype": "text/x-python",
   "name": "python",
   "nbconvert_exporter": "python",
   "pygments_lexer": "ipython3",
   "version": "3.7.6"
  }
 },
 "nbformat": 4,
 "nbformat_minor": 4
}
